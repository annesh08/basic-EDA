{
  "nbformat": 4,
  "nbformat_minor": 0,
  "metadata": {
    "colab": {
      "name": "Part2-Univariate-Analysis.ipynb",
      "provenance": [],
      "collapsed_sections": []
    },
    "kernelspec": {
      "name": "python3",
      "display_name": "Python 3"
    },
    "language_info": {
      "name": "python"
    }
  },
  "cells": [
    {
      "cell_type": "code",
      "metadata": {
        "id": "1h7x1fCBthJE"
      },
      "source": [
        "import pandas as pd\n",
        "import seaborn as sns"
      ],
      "execution_count": 1,
      "outputs": []
    },
    {
      "cell_type": "code",
      "metadata": {
        "id": "Tvw_fgj1uSJE"
      },
      "source": [
        "df = pd.read_csv('LS_2.0.csv')"
      ],
      "execution_count": 2,
      "outputs": []
    },
    {
      "cell_type": "code",
      "metadata": {
        "colab": {
          "base_uri": "https://localhost:8080/",
          "height": 417
        },
        "id": "UzReQT2_uZlL",
        "outputId": "212b0d53-5139-44d2-8dae-4f6fe5374812"
      },
      "source": [
        "df.head()"
      ],
      "execution_count": 3,
      "outputs": [
        {
          "output_type": "execute_result",
          "data": {
            "text/html": [
              "<div>\n",
              "<style scoped>\n",
              "    .dataframe tbody tr th:only-of-type {\n",
              "        vertical-align: middle;\n",
              "    }\n",
              "\n",
              "    .dataframe tbody tr th {\n",
              "        vertical-align: top;\n",
              "    }\n",
              "\n",
              "    .dataframe thead th {\n",
              "        text-align: right;\n",
              "    }\n",
              "</style>\n",
              "<table border=\"1\" class=\"dataframe\">\n",
              "  <thead>\n",
              "    <tr style=\"text-align: right;\">\n",
              "      <th></th>\n",
              "      <th>STATE</th>\n",
              "      <th>CONSTITUENCY</th>\n",
              "      <th>NAME</th>\n",
              "      <th>WINNER</th>\n",
              "      <th>PARTY</th>\n",
              "      <th>SYMBOL</th>\n",
              "      <th>GENDER</th>\n",
              "      <th>CRIMINAL\\nCASES</th>\n",
              "      <th>AGE</th>\n",
              "      <th>CATEGORY</th>\n",
              "      <th>EDUCATION</th>\n",
              "      <th>ASSETS</th>\n",
              "      <th>LIABILITIES</th>\n",
              "      <th>GENERAL\\nVOTES</th>\n",
              "      <th>POSTAL\\nVOTES</th>\n",
              "      <th>TOTAL\\nVOTES</th>\n",
              "      <th>OVER TOTAL ELECTORS \\nIN CONSTITUENCY</th>\n",
              "      <th>OVER TOTAL VOTES POLLED \\nIN CONSTITUENCY</th>\n",
              "      <th>TOTAL ELECTORS</th>\n",
              "    </tr>\n",
              "  </thead>\n",
              "  <tbody>\n",
              "    <tr>\n",
              "      <th>0</th>\n",
              "      <td>Telangana</td>\n",
              "      <td>ADILABAD</td>\n",
              "      <td>SOYAM BAPU RAO</td>\n",
              "      <td>1</td>\n",
              "      <td>BJP</td>\n",
              "      <td>Lotus</td>\n",
              "      <td>MALE</td>\n",
              "      <td>52</td>\n",
              "      <td>52.0</td>\n",
              "      <td>ST</td>\n",
              "      <td>12th Pass</td>\n",
              "      <td>Rs 30,99,414\\n ~ 30 Lacs+</td>\n",
              "      <td>Rs 2,31,450\\n ~ 2 Lacs+</td>\n",
              "      <td>376892</td>\n",
              "      <td>482</td>\n",
              "      <td>377374</td>\n",
              "      <td>25.330684</td>\n",
              "      <td>35.468248</td>\n",
              "      <td>1489790</td>\n",
              "    </tr>\n",
              "    <tr>\n",
              "      <th>1</th>\n",
              "      <td>Telangana</td>\n",
              "      <td>ADILABAD</td>\n",
              "      <td>Godam Nagesh</td>\n",
              "      <td>0</td>\n",
              "      <td>TRS</td>\n",
              "      <td>Car</td>\n",
              "      <td>MALE</td>\n",
              "      <td>0</td>\n",
              "      <td>54.0</td>\n",
              "      <td>ST</td>\n",
              "      <td>Post Graduate</td>\n",
              "      <td>Rs 1,84,77,888\\n ~ 1 Crore+</td>\n",
              "      <td>Rs 8,47,000\\n ~ 8 Lacs+</td>\n",
              "      <td>318665</td>\n",
              "      <td>149</td>\n",
              "      <td>318814</td>\n",
              "      <td>21.399929</td>\n",
              "      <td>29.964370</td>\n",
              "      <td>1489790</td>\n",
              "    </tr>\n",
              "    <tr>\n",
              "      <th>2</th>\n",
              "      <td>Telangana</td>\n",
              "      <td>ADILABAD</td>\n",
              "      <td>RATHOD RAMESH</td>\n",
              "      <td>0</td>\n",
              "      <td>INC</td>\n",
              "      <td>Hand</td>\n",
              "      <td>MALE</td>\n",
              "      <td>3</td>\n",
              "      <td>52.0</td>\n",
              "      <td>ST</td>\n",
              "      <td>12th Pass</td>\n",
              "      <td>Rs 3,64,91,000\\n ~ 3 Crore+</td>\n",
              "      <td>Rs 1,53,00,000\\n ~ 1 Crore+</td>\n",
              "      <td>314057</td>\n",
              "      <td>181</td>\n",
              "      <td>314238</td>\n",
              "      <td>21.092771</td>\n",
              "      <td>29.534285</td>\n",
              "      <td>1489790</td>\n",
              "    </tr>\n",
              "    <tr>\n",
              "      <th>3</th>\n",
              "      <td>Telangana</td>\n",
              "      <td>ADILABAD</td>\n",
              "      <td>NOTA</td>\n",
              "      <td>0</td>\n",
              "      <td>NOTA</td>\n",
              "      <td>NaN</td>\n",
              "      <td>NaN</td>\n",
              "      <td>NaN</td>\n",
              "      <td>NaN</td>\n",
              "      <td>NaN</td>\n",
              "      <td>NaN</td>\n",
              "      <td>NaN</td>\n",
              "      <td>NaN</td>\n",
              "      <td>13030</td>\n",
              "      <td>6</td>\n",
              "      <td>13036</td>\n",
              "      <td>0.875023</td>\n",
              "      <td>1.225214</td>\n",
              "      <td>1489790</td>\n",
              "    </tr>\n",
              "    <tr>\n",
              "      <th>4</th>\n",
              "      <td>Uttar Pradesh</td>\n",
              "      <td>AGRA</td>\n",
              "      <td>Satyapal Singh Baghel</td>\n",
              "      <td>1</td>\n",
              "      <td>BJP</td>\n",
              "      <td>Lotus</td>\n",
              "      <td>MALE</td>\n",
              "      <td>5</td>\n",
              "      <td>58.0</td>\n",
              "      <td>SC</td>\n",
              "      <td>Doctorate</td>\n",
              "      <td>Rs 7,42,74,036\\n ~ 7 Crore+</td>\n",
              "      <td>Rs 86,06,522\\n ~ 86 Lacs+</td>\n",
              "      <td>644459</td>\n",
              "      <td>2416</td>\n",
              "      <td>646875</td>\n",
              "      <td>33.383823</td>\n",
              "      <td>56.464615</td>\n",
              "      <td>1937690</td>\n",
              "    </tr>\n",
              "  </tbody>\n",
              "</table>\n",
              "</div>"
            ],
            "text/plain": [
              "           STATE  ... TOTAL ELECTORS\n",
              "0      Telangana  ...        1489790\n",
              "1      Telangana  ...        1489790\n",
              "2      Telangana  ...        1489790\n",
              "3      Telangana  ...        1489790\n",
              "4  Uttar Pradesh  ...        1937690\n",
              "\n",
              "[5 rows x 19 columns]"
            ]
          },
          "metadata": {},
          "execution_count": 3
        }
      ]
    },
    {
      "cell_type": "markdown",
      "metadata": {
        "id": "vEVYpYT2uoZU"
      },
      "source": [
        "# 1. Categorical Data"
      ]
    },
    {
      "cell_type": "markdown",
      "metadata": {
        "id": "JnNZQrhJu207"
      },
      "source": [
        "a. Countplot"
      ]
    },
    {
      "cell_type": "code",
      "metadata": {
        "colab": {
          "base_uri": "https://localhost:8080/",
          "height": 351
        },
        "id": "jJ_qfYyTu-WD",
        "outputId": "84d8b0b8-ed9e-4ecd-88ae-9856bfcbaee5"
      },
      "source": [
        "sns.countplot(df['CATEGORY'])"
      ],
      "execution_count": 6,
      "outputs": [
        {
          "output_type": "stream",
          "name": "stderr",
          "text": [
            "/usr/local/lib/python3.7/dist-packages/seaborn/_decorators.py:43: FutureWarning: Pass the following variable as a keyword arg: x. From version 0.12, the only valid positional argument will be `data`, and passing other arguments without an explicit keyword will result in an error or misinterpretation.\n",
            "  FutureWarning\n"
          ]
        },
        {
          "output_type": "execute_result",
          "data": {
            "text/plain": [
              "<matplotlib.axes._subplots.AxesSubplot at 0x7ff4e29a0e90>"
            ]
          },
          "metadata": {},
          "execution_count": 6
        },
        {
          "output_type": "display_data",
          "data": {
            "image/png": "[encoded data removed]",
            "text/plain": [
              "<Figure size 432x288 with 1 Axes>"
            ]
          },
          "metadata": {
            "needs_background": "light"
          }
        }
      ]
    },
    {
      "cell_type": "code",
      "metadata": {
        "colab": {
          "base_uri": "https://localhost:8080/",
          "height": 683
        },
        "id": "B3-5spf_x6RQ",
        "outputId": "3ea968e5-61cf-4109-bd01-1867c3a9ca5c"
      },
      "source": [
        "winner = df[df['WINNER']==1]\n",
        "sns.set(rc = {'figure.figsize':(20,10)})\n",
        "sns.countplot(winner['PARTY'])"
      ],
      "execution_count": 21,
      "outputs": [
        {
          "output_type": "stream",
          "name": "stderr",
          "text": [
            "/usr/local/lib/python3.7/dist-packages/seaborn/_decorators.py:43: FutureWarning: Pass the following variable as a keyword arg: x. From version 0.12, the only valid positional argument will be `data`, and passing other arguments without an explicit keyword will result in an error or misinterpretation.\n",
            "  FutureWarning\n"
          ]
        },
        {
          "output_type": "execute_result",
          "data": {
            "text/plain": [
              "<matplotlib.axes._subplots.AxesSubplot at 0x7ff4e1500690>"
            ]
          },
          "metadata": {},
          "execution_count": 21
        },
        {
          "output_type": "display_data",
          "data": {
            "image/png": "[encoded data removed]",
            "text/plain": [
              "<Figure size 1440x720 with 1 Axes>"
            ]
          },
          "metadata": {}
        }
      ]
    },
    {
      "cell_type": "markdown",
      "metadata": {
        "id": "9jIy7d7zvoh_"
      },
      "source": [
        "b. PieChart"
      ]
    },
    {
      "cell_type": "code",
      "metadata": {
        "colab": {
          "base_uri": "https://localhost:8080/",
          "height": 266
        },
        "id": "ZQLNEsu4vI4G",
        "outputId": "dc93e6ff-e4bf-40c1-c01b-087f2e0b744a"
      },
      "source": [
        "df['GENDER'].value_counts().plot(kind='pie',autopct='%.2f')"
      ],
      "execution_count": 7,
      "outputs": [
        {
          "output_type": "execute_result",
          "data": {
            "text/plain": [
              "<matplotlib.axes._subplots.AxesSubplot at 0x7ff4e37aee10>"
            ]
          },
          "metadata": {},
          "execution_count": 7
        },
        {
          "output_type": "display_data",
          "data": {
            "image/png": "[encoded data removed]",
            "text/plain": [
              "<Figure size 432x288 with 1 Axes>"
            ]
          },
          "metadata": {}
        }
      ]
    },
    {
      "cell_type": "markdown",
      "metadata": {
        "id": "HZf3viUKwNDV"
      },
      "source": [
        "# 2. Numerical Data"
      ]
    },
    {
      "cell_type": "markdown",
      "metadata": {
        "id": "h7ex7Ph2wRw_"
      },
      "source": [
        "a. Histogram"
      ]
    },
    {
      "cell_type": "code",
      "metadata": {
        "colab": {
          "base_uri": "https://localhost:8080/",
          "height": 317
        },
        "id": "j3j7qQPwv3Um",
        "outputId": "5c163182-dc51-43af-d8fc-eeafd196f3ec"
      },
      "source": [
        "import matplotlib.pyplot as plt\n",
        "plt.hist(df['AGE'],bins=10)"
      ],
      "execution_count": 13,
      "outputs": [
        {
          "output_type": "execute_result",
          "data": {
            "text/plain": [
              "(array([ 88., 156., 261., 335., 344., 341., 288., 151.,  46.,   8.]),\n",
              " array([25. , 31.1, 37.2, 43.3, 49.4, 55.5, 61.6, 67.7, 73.8, 79.9, 86. ]),\n",
              " <a list of 10 Patch objects>)"
            ]
          },
          "metadata": {},
          "execution_count": 13
        },
        {
          "output_type": "display_data",
          "data": {
            "image/png": "[encoded data removed]",
            "text/plain": [
              "<Figure size 432x288 with 1 Axes>"
            ]
          },
          "metadata": {
            "needs_background": "light"
          }
        }
      ]
    },
    {
      "cell_type": "markdown",
      "metadata": {
        "id": "j3iOuBfwwyy2"
      },
      "source": [
        "b. Distplot"
      ]
    },
    {
      "cell_type": "code",
      "metadata": {
        "colab": {
          "base_uri": "https://localhost:8080/",
          "height": 351
        },
        "id": "NHaNG3WcweNo",
        "outputId": "03f5ff23-4ba1-4a23-93ac-260c6901a431"
      },
      "source": [
        "sns.distplot(df['AGE'])"
      ],
      "execution_count": 14,
      "outputs": [
        {
          "output_type": "stream",
          "name": "stderr",
          "text": [
            "/usr/local/lib/python3.7/dist-packages/seaborn/distributions.py:2619: FutureWarning: `distplot` is a deprecated function and will be removed in a future version. Please adapt your code to use either `displot` (a figure-level function with similar flexibility) or `histplot` (an axes-level function for histograms).\n",
            "  warnings.warn(msg, FutureWarning)\n"
          ]
        },
        {
          "output_type": "execute_result",
          "data": {
            "text/plain": [
              "<matplotlib.axes._subplots.AxesSubplot at 0x7ff4e12d7450>"
            ]
          },
          "metadata": {},
          "execution_count": 14
        },
        {
          "output_type": "display_data",
          "data": {
            "image/png": "[encoded data removed]",
            "text/plain": [
              "<Figure size 432x288 with 1 Axes>"
            ]
          },
          "metadata": {
            "needs_background": "light"
          }
        }
      ]
    },
    {
      "cell_type": "markdown",
      "metadata": {
        "id": "UEGTiQhQw28C"
      },
      "source": [
        "c. Boxplot"
      ]
    },
    {
      "cell_type": "code",
      "metadata": {
        "colab": {
          "base_uri": "https://localhost:8080/",
          "height": 351
        },
        "id": "FIrXJfChw5RV",
        "outputId": "7e6d0e2a-3adf-4555-f9db-07cc54498170"
      },
      "source": [
        "sns.boxplot(df['AGE']) #This plot helps in identifying the outliers"
      ],
      "execution_count": 16,
      "outputs": [
        {
          "output_type": "stream",
          "name": "stderr",
          "text": [
            "/usr/local/lib/python3.7/dist-packages/seaborn/_decorators.py:43: FutureWarning: Pass the following variable as a keyword arg: x. From version 0.12, the only valid positional argument will be `data`, and passing other arguments without an explicit keyword will result in an error or misinterpretation.\n",
            "  FutureWarning\n"
          ]
        },
        {
          "output_type": "execute_result",
          "data": {
            "text/plain": [
              "<matplotlib.axes._subplots.AxesSubplot at 0x7ff4df184250>"
            ]
          },
          "metadata": {},
          "execution_count": 16
        },
        {
          "output_type": "display_data",
          "data": {
            "image/png": "[encoded data removed]",
            "text/plain": [
              "<Figure size 432x288 with 1 Axes>"
            ]
          },
          "metadata": {
            "needs_background": "light"
          }
        }
      ]
    },
    {
      "cell_type": "code",
      "metadata": {
        "id": "z7lbKSUy0BpC"
      },
      "source": [
        ""
      ],
      "execution_count": null,
      "outputs": []
    }
  ]
}
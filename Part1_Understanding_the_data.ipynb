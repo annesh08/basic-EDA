{
  "nbformat": 4,
  "nbformat_minor": 0,
  "metadata": {
    "colab": {
      "name": "Part1-Understanding-the-data.ipynb",
      "provenance": [],
      "collapsed_sections": []
    },
    "kernelspec": {
      "name": "python3",
      "display_name": "Python 3"
    },
    "language_info": {
      "name": "python"
    }
  },
  "cells": [
    {
      "cell_type": "code",
      "metadata": {
        "id": "_e81ENVkoZ6k"
      },
      "source": [
        "import pandas as pd"
      ],
      "execution_count": null,
      "outputs": []
    },
    {
      "cell_type": "code",
      "metadata": {
        "id": "JXOc3T6IqKTo"
      },
      "source": [
        "df = pd.read_csv('WHRData2021.csv')"
      ],
      "execution_count": null,
      "outputs": []
    },
    {
      "cell_type": "markdown",
      "metadata": {
        "id": "kNK06LjEqUwV"
      },
      "source": [
        "1. How Big is the data?"
      ]
    },
    {
      "cell_type": "code",
      "metadata": {
        "colab": {
          "base_uri": "https://localhost:8080/"
        },
        "id": "NfHzYZebqRh1",
        "outputId": "d7c293ec-ca79-496c-dfb7-e22c34ef666f"
      },
      "source": [
        "df.shape"
      ],
      "execution_count": null,
      "outputs": [
        {
          "output_type": "execute_result",
          "data": {
            "text/plain": [
              "(166, 17)"
            ]
          },
          "metadata": {},
          "execution_count": 3
        }
      ]
    },
    {
      "cell_type": "markdown",
      "metadata": {
        "id": "WRjxWgykqjxg"
      },
      "source": [
        "2. How does the data look?"
      ]
    },
    {
      "cell_type": "code",
      "metadata": {
        "colab": {
          "base_uri": "https://localhost:8080/",
          "height": 365
        },
        "id": "7thHdCWqqb8O",
        "outputId": "4eb601c6-65e2-4cc1-c71a-17c248546f7d"
      },
      "source": [
        "df.sample(5)"
      ],
      "execution_count": null,
      "outputs": [
        {
          "output_type": "execute_result",
          "data": {
            "text/html": [
              "<div>\n",
              "<style scoped>\n",
              "    .dataframe tbody tr th:only-of-type {\n",
              "        vertical-align: middle;\n",
              "    }\n",
              "\n",
              "    .dataframe tbody tr th {\n",
              "        vertical-align: top;\n",
              "    }\n",
              "\n",
              "    .dataframe thead th {\n",
              "        text-align: right;\n",
              "    }\n",
              "</style>\n",
              "<table border=\"1\" class=\"dataframe\">\n",
              "  <thead>\n",
              "    <tr style=\"text-align: right;\">\n",
              "      <th></th>\n",
              "      <th>Country name</th>\n",
              "      <th>Population 2020</th>\n",
              "      <th>Population 2019</th>\n",
              "      <th>COVID-19 deaths per 100,000 population in 2020</th>\n",
              "      <th>Median age</th>\n",
              "      <th>Island</th>\n",
              "      <th>Index of exposure to COVID-19  infections in other countries as of March 31</th>\n",
              "      <th>Log of average distance to SARS countries</th>\n",
              "      <th>WHO Western Pacific Region</th>\n",
              "      <th>Female head of government</th>\n",
              "      <th>Index of institutional trust</th>\n",
              "      <th>Gini coefficient of income</th>\n",
              "      <th>All-cause death count, 2017</th>\n",
              "      <th>All-cause death count, 2018</th>\n",
              "      <th>All-cause death count, 2019</th>\n",
              "      <th>All-cause death count, 2020</th>\n",
              "      <th>Excess deaths in 2020 per 100,000 population, relative to 2017-2019 average</th>\n",
              "    </tr>\n",
              "  </thead>\n",
              "  <tbody>\n",
              "    <tr>\n",
              "      <th>47</th>\n",
              "      <td>Philippines</td>\n",
              "      <td>109581085.0</td>\n",
              "      <td>108116615.0</td>\n",
              "      <td>8.436</td>\n",
              "      <td>25.2</td>\n",
              "      <td>1</td>\n",
              "      <td>0.740</td>\n",
              "      <td>8.226</td>\n",
              "      <td>1</td>\n",
              "      <td>0</td>\n",
              "      <td>0.520</td>\n",
              "      <td>42.230</td>\n",
              "      <td>NaN</td>\n",
              "      <td>NaN</td>\n",
              "      <td>NaN</td>\n",
              "      <td>NaN</td>\n",
              "      <td>NaN</td>\n",
              "    </tr>\n",
              "    <tr>\n",
              "      <th>5</th>\n",
              "      <td>Jordan</td>\n",
              "      <td>10203140.0</td>\n",
              "      <td>10101694.0</td>\n",
              "      <td>37.577</td>\n",
              "      <td>23.2</td>\n",
              "      <td>0</td>\n",
              "      <td>1.895</td>\n",
              "      <td>8.961</td>\n",
              "      <td>0</td>\n",
              "      <td>0</td>\n",
              "      <td>0.465</td>\n",
              "      <td>33.100</td>\n",
              "      <td>NaN</td>\n",
              "      <td>NaN</td>\n",
              "      <td>NaN</td>\n",
              "      <td>NaN</td>\n",
              "      <td>NaN</td>\n",
              "    </tr>\n",
              "    <tr>\n",
              "      <th>53</th>\n",
              "      <td>Myanmar</td>\n",
              "      <td>54409794.0</td>\n",
              "      <td>54045420.0</td>\n",
              "      <td>4.929</td>\n",
              "      <td>29.1</td>\n",
              "      <td>0</td>\n",
              "      <td>0.759</td>\n",
              "      <td>8.299</td>\n",
              "      <td>0</td>\n",
              "      <td>1</td>\n",
              "      <td>0.621</td>\n",
              "      <td>38.070</td>\n",
              "      <td>NaN</td>\n",
              "      <td>NaN</td>\n",
              "      <td>NaN</td>\n",
              "      <td>NaN</td>\n",
              "      <td>NaN</td>\n",
              "    </tr>\n",
              "    <tr>\n",
              "      <th>137</th>\n",
              "      <td>Norway</td>\n",
              "      <td>5421242.0</td>\n",
              "      <td>5347896.0</td>\n",
              "      <td>8.042</td>\n",
              "      <td>39.7</td>\n",
              "      <td>0</td>\n",
              "      <td>2.676</td>\n",
              "      <td>8.993</td>\n",
              "      <td>0</td>\n",
              "      <td>1</td>\n",
              "      <td>0.606</td>\n",
              "      <td>24.800</td>\n",
              "      <td>40634.0</td>\n",
              "      <td>40716.0</td>\n",
              "      <td>40500.0</td>\n",
              "      <td>41155.0</td>\n",
              "      <td>9.998</td>\n",
              "    </tr>\n",
              "    <tr>\n",
              "      <th>9</th>\n",
              "      <td>Indonesia</td>\n",
              "      <td>273523621.0</td>\n",
              "      <td>270625568.0</td>\n",
              "      <td>8.094</td>\n",
              "      <td>29.3</td>\n",
              "      <td>1</td>\n",
              "      <td>0.576</td>\n",
              "      <td>8.578</td>\n",
              "      <td>0</td>\n",
              "      <td>0</td>\n",
              "      <td>0.561</td>\n",
              "      <td>37.478</td>\n",
              "      <td>NaN</td>\n",
              "      <td>NaN</td>\n",
              "      <td>NaN</td>\n",
              "      <td>NaN</td>\n",
              "      <td>NaN</td>\n",
              "    </tr>\n",
              "  </tbody>\n",
              "</table>\n",
              "</div>"
            ],
            "text/plain": [
              "    Country name  ...  Excess deaths in 2020 per 100,000 population, relative to 2017-2019 average\n",
              "47   Philippines  ...                                                NaN                          \n",
              "5         Jordan  ...                                                NaN                          \n",
              "53       Myanmar  ...                                                NaN                          \n",
              "137       Norway  ...                                              9.998                          \n",
              "9      Indonesia  ...                                                NaN                          \n",
              "\n",
              "[5 rows x 17 columns]"
            ]
          },
          "metadata": {},
          "execution_count": 4
        }
      ]
    },
    {
      "cell_type": "markdown",
      "metadata": {
        "id": "aQtYSSt4qoTo"
      },
      "source": [
        "3. What is the data type of the columns?"
      ]
    },
    {
      "cell_type": "code",
      "metadata": {
        "colab": {
          "base_uri": "https://localhost:8080/"
        },
        "id": "0G8g6UAAqslF",
        "outputId": "5a81a6e5-a1ae-44a9-aa5c-7e113b9e68ad"
      },
      "source": [
        "df.info()"
      ],
      "execution_count": null,
      "outputs": [
        {
          "output_type": "stream",
          "name": "stdout",
          "text": [
            "<class 'pandas.core.frame.DataFrame'>\n",
            "RangeIndex: 166 entries, 0 to 165\n",
            "Data columns (total 17 columns):\n",
            " #   Column                                                                       Non-Null Count  Dtype  \n",
            "---  ------                                                                       --------------  -----  \n",
            " 0   Country name                                                                 166 non-null    object \n",
            " 1   Population 2020                                                              164 non-null    float64\n",
            " 2   Population 2019                                                              164 non-null    float64\n",
            " 3   COVID-19 deaths per 100,000 population in 2020                               163 non-null    float64\n",
            " 4   Median age                                                                   163 non-null    float64\n",
            " 5   Island                                                                       166 non-null    int64  \n",
            " 6   Index of exposure to COVID-19  infections in other countries as of March 31  164 non-null    float64\n",
            " 7   Log of average distance to SARS countries                                    164 non-null    float64\n",
            " 8   WHO Western Pacific Region                                                   166 non-null    int64  \n",
            " 9   Female head of government                                                    166 non-null    int64  \n",
            " 10  Index of institutional trust                                                 165 non-null    float64\n",
            " 11  Gini coefficient of income                                                   164 non-null    float64\n",
            " 12  All-cause death count, 2017                                                  63 non-null     float64\n",
            " 13  All-cause death count, 2018                                                  64 non-null     float64\n",
            " 14  All-cause death count, 2019                                                  64 non-null     float64\n",
            " 15  All-cause death count, 2020                                                  65 non-null     float64\n",
            " 16  Excess deaths in 2020 per 100,000 population, relative to 2017-2019 average  64 non-null     float64\n",
            "dtypes: float64(13), int64(3), object(1)\n",
            "memory usage: 22.2+ KB\n"
          ]
        }
      ]
    },
    {
      "cell_type": "markdown",
      "metadata": {
        "id": "EhCpcbX1qtA_"
      },
      "source": [
        "4. Are there any missing values?"
      ]
    },
    {
      "cell_type": "code",
      "metadata": {
        "colab": {
          "base_uri": "https://localhost:8080/"
        },
        "id": "9vq3LNvmqw_l",
        "outputId": "029f80f9-b423-4e92-cb67-64fa66f017dc"
      },
      "source": [
        "df.isnull().sum()"
      ],
      "execution_count": null,
      "outputs": [
        {
          "output_type": "execute_result",
          "data": {
            "text/plain": [
              "Country name                                                                     0\n",
              "Population 2020                                                                  2\n",
              "Population 2019                                                                  2\n",
              "COVID-19 deaths per 100,000 population in 2020                                   3\n",
              "Median age                                                                       3\n",
              "Island                                                                           0\n",
              "Index of exposure to COVID-19  infections in other countries as of March 31      2\n",
              "Log of average distance to SARS countries                                        2\n",
              "WHO Western Pacific Region                                                       0\n",
              "Female head of government                                                        0\n",
              "Index of institutional trust                                                     1\n",
              "Gini coefficient of income                                                       2\n",
              "All-cause death count, 2017                                                    103\n",
              "All-cause death count, 2018                                                    102\n",
              "All-cause death count, 2019                                                    102\n",
              "All-cause death count, 2020                                                    101\n",
              "Excess deaths in 2020 per 100,000 population, relative to 2017-2019 average    102\n",
              "dtype: int64"
            ]
          },
          "metadata": {},
          "execution_count": 7
        }
      ]
    },
    {
      "cell_type": "markdown",
      "metadata": {
        "id": "PkUsYkYcqyuI"
      },
      "source": [
        "5. How does the data look mathematically?"
      ]
    },
    {
      "cell_type": "code",
      "metadata": {
        "colab": {
          "base_uri": "https://localhost:8080/",
          "height": 459
        },
        "id": "2F4vmR0kq2CP",
        "outputId": "7264779d-fb73-4fd8-d0c6-f59ccacca70c"
      },
      "source": [
        "df.describe()"
      ],
      "execution_count": null,
      "outputs": [
        {
          "output_type": "execute_result",
          "data": {
            "text/html": [
              "<div>\n",
              "<style scoped>\n",
              "    .dataframe tbody tr th:only-of-type {\n",
              "        vertical-align: middle;\n",
              "    }\n",
              "\n",
              "    .dataframe tbody tr th {\n",
              "        vertical-align: top;\n",
              "    }\n",
              "\n",
              "    .dataframe thead th {\n",
              "        text-align: right;\n",
              "    }\n",
              "</style>\n",
              "<table border=\"1\" class=\"dataframe\">\n",
              "  <thead>\n",
              "    <tr style=\"text-align: right;\">\n",
              "      <th></th>\n",
              "      <th>Population 2020</th>\n",
              "      <th>Population 2019</th>\n",
              "      <th>COVID-19 deaths per 100,000 population in 2020</th>\n",
              "      <th>Median age</th>\n",
              "      <th>Island</th>\n",
              "      <th>Index of exposure to COVID-19  infections in other countries as of March 31</th>\n",
              "      <th>Log of average distance to SARS countries</th>\n",
              "      <th>WHO Western Pacific Region</th>\n",
              "      <th>Female head of government</th>\n",
              "      <th>Index of institutional trust</th>\n",
              "      <th>Gini coefficient of income</th>\n",
              "      <th>All-cause death count, 2017</th>\n",
              "      <th>All-cause death count, 2018</th>\n",
              "      <th>All-cause death count, 2019</th>\n",
              "      <th>All-cause death count, 2020</th>\n",
              "      <th>Excess deaths in 2020 per 100,000 population, relative to 2017-2019 average</th>\n",
              "    </tr>\n",
              "  </thead>\n",
              "  <tbody>\n",
              "    <tr>\n",
              "      <th>count</th>\n",
              "      <td>1.640000e+02</td>\n",
              "      <td>1.640000e+02</td>\n",
              "      <td>163.000000</td>\n",
              "      <td>163.000000</td>\n",
              "      <td>166.000000</td>\n",
              "      <td>164.000000</td>\n",
              "      <td>164.000000</td>\n",
              "      <td>166.000000</td>\n",
              "      <td>166.000000</td>\n",
              "      <td>165.000000</td>\n",
              "      <td>164.00000</td>\n",
              "      <td>6.300000e+01</td>\n",
              "      <td>6.400000e+01</td>\n",
              "      <td>6.400000e+01</td>\n",
              "      <td>6.500000e+01</td>\n",
              "      <td>64.000000</td>\n",
              "    </tr>\n",
              "    <tr>\n",
              "      <th>mean</th>\n",
              "      <td>4.718124e+07</td>\n",
              "      <td>4.646257e+07</td>\n",
              "      <td>30.704018</td>\n",
              "      <td>30.667485</td>\n",
              "      <td>0.132530</td>\n",
              "      <td>1.674512</td>\n",
              "      <td>9.055567</td>\n",
              "      <td>0.084337</td>\n",
              "      <td>0.138554</td>\n",
              "      <td>0.316842</td>\n",
              "      <td>37.88650</td>\n",
              "      <td>2.543131e+05</td>\n",
              "      <td>2.543317e+05</td>\n",
              "      <td>2.552972e+05</td>\n",
              "      <td>2.984399e+05</td>\n",
              "      <td>109.163500</td>\n",
              "    </tr>\n",
              "    <tr>\n",
              "      <th>std</th>\n",
              "      <td>1.598697e+08</td>\n",
              "      <td>1.568124e+08</td>\n",
              "      <td>38.194215</td>\n",
              "      <td>9.332182</td>\n",
              "      <td>0.340092</td>\n",
              "      <td>1.300516</td>\n",
              "      <td>0.376310</td>\n",
              "      <td>0.278734</td>\n",
              "      <td>0.346526</td>\n",
              "      <td>0.173037</td>\n",
              "      <td>8.30024</td>\n",
              "      <td>4.835330e+05</td>\n",
              "      <td>4.844878e+05</td>\n",
              "      <td>4.861756e+05</td>\n",
              "      <td>5.654272e+05</td>\n",
              "      <td>82.578274</td>\n",
              "    </tr>\n",
              "    <tr>\n",
              "      <th>min</th>\n",
              "      <td>3.412500e+05</td>\n",
              "      <td>3.613130e+05</td>\n",
              "      <td>0.000000</td>\n",
              "      <td>15.100000</td>\n",
              "      <td>0.000000</td>\n",
              "      <td>0.379000</td>\n",
              "      <td>8.044000</td>\n",
              "      <td>0.000000</td>\n",
              "      <td>0.000000</td>\n",
              "      <td>0.046000</td>\n",
              "      <td>23.20000</td>\n",
              "      <td>2.229000e+03</td>\n",
              "      <td>2.247000e+03</td>\n",
              "      <td>2.200000e+03</td>\n",
              "      <td>2.321000e+03</td>\n",
              "      <td>-26.468000</td>\n",
              "    </tr>\n",
              "    <tr>\n",
              "      <th>25%</th>\n",
              "      <td>4.827881e+06</td>\n",
              "      <td>4.730215e+06</td>\n",
              "      <td>1.680500</td>\n",
              "      <td>21.850000</td>\n",
              "      <td>0.000000</td>\n",
              "      <td>0.819750</td>\n",
              "      <td>8.928500</td>\n",
              "      <td>0.000000</td>\n",
              "      <td>0.000000</td>\n",
              "      <td>0.189000</td>\n",
              "      <td>32.25000</td>\n",
              "      <td>2.884000e+04</td>\n",
              "      <td>3.015150e+04</td>\n",
              "      <td>2.995400e+04</td>\n",
              "      <td>3.317700e+04</td>\n",
              "      <td>34.934250</td>\n",
              "    </tr>\n",
              "    <tr>\n",
              "      <th>50%</th>\n",
              "      <td>1.126017e+07</td>\n",
              "      <td>1.116260e+07</td>\n",
              "      <td>10.125000</td>\n",
              "      <td>29.700000</td>\n",
              "      <td>0.000000</td>\n",
              "      <td>1.076500</td>\n",
              "      <td>9.068000</td>\n",
              "      <td>0.000000</td>\n",
              "      <td>0.000000</td>\n",
              "      <td>0.287000</td>\n",
              "      <td>37.12150</td>\n",
              "      <td>7.004900e+04</td>\n",
              "      <td>6.932850e+04</td>\n",
              "      <td>7.049700e+04</td>\n",
              "      <td>9.155300e+04</td>\n",
              "      <td>104.438000</td>\n",
              "    </tr>\n",
              "    <tr>\n",
              "      <th>75%</th>\n",
              "      <td>3.380537e+07</td>\n",
              "      <td>3.375262e+07</td>\n",
              "      <td>46.802500</td>\n",
              "      <td>39.350000</td>\n",
              "      <td>0.000000</td>\n",
              "      <td>2.231250</td>\n",
              "      <td>9.309000</td>\n",
              "      <td>0.000000</td>\n",
              "      <td>0.000000</td>\n",
              "      <td>0.415000</td>\n",
              "      <td>43.82500</td>\n",
              "      <td>1.696710e+05</td>\n",
              "      <td>1.722710e+05</td>\n",
              "      <td>1.743490e+05</td>\n",
              "      <td>2.145030e+05</td>\n",
              "      <td>170.728750</td>\n",
              "    </tr>\n",
              "    <tr>\n",
              "      <th>max</th>\n",
              "      <td>1.439324e+09</td>\n",
              "      <td>1.397715e+09</td>\n",
              "      <td>168.496000</td>\n",
              "      <td>48.200000</td>\n",
              "      <td>1.000000</td>\n",
              "      <td>6.343000</td>\n",
              "      <td>9.726000</td>\n",
              "      <td>1.000000</td>\n",
              "      <td>1.000000</td>\n",
              "      <td>0.906000</td>\n",
              "      <td>65.42600</td>\n",
              "      <td>2.810927e+06</td>\n",
              "      <td>2.839076e+06</td>\n",
              "      <td>2.852747e+06</td>\n",
              "      <td>3.424996e+06</td>\n",
              "      <td>323.476000</td>\n",
              "    </tr>\n",
              "  </tbody>\n",
              "</table>\n",
              "</div>"
            ],
            "text/plain": [
              "       Population 2020  ...  Excess deaths in 2020 per 100,000 population, relative to 2017-2019 average\n",
              "count     1.640000e+02  ...                                          64.000000                          \n",
              "mean      4.718124e+07  ...                                         109.163500                          \n",
              "std       1.598697e+08  ...                                          82.578274                          \n",
              "min       3.412500e+05  ...                                         -26.468000                          \n",
              "25%       4.827881e+06  ...                                          34.934250                          \n",
              "50%       1.126017e+07  ...                                         104.438000                          \n",
              "75%       3.380537e+07  ...                                         170.728750                          \n",
              "max       1.439324e+09  ...                                         323.476000                          \n",
              "\n",
              "[8 rows x 16 columns]"
            ]
          },
          "metadata": {},
          "execution_count": 8
        }
      ]
    },
    {
      "cell_type": "markdown",
      "metadata": {
        "id": "MdtoH_kyq6Fd"
      },
      "source": [
        "6. Are there duplicated values?"
      ]
    },
    {
      "cell_type": "code",
      "metadata": {
        "colab": {
          "base_uri": "https://localhost:8080/"
        },
        "id": "A0wO5df-q9G8",
        "outputId": "bc95367a-b36e-4483-c690-b8b883d1d9b2"
      },
      "source": [
        "df.duplicated().sum()"
      ],
      "execution_count": null,
      "outputs": [
        {
          "output_type": "execute_result",
          "data": {
            "text/plain": [
              "0"
            ]
          },
          "metadata": {},
          "execution_count": 9
        }
      ]
    },
    {
      "cell_type": "markdown",
      "metadata": {
        "id": "NUMqF82-q-aF"
      },
      "source": [
        "7. How is the correlation between the columns?"
      ]
    },
    {
      "cell_type": "code",
      "metadata": {
        "colab": {
          "base_uri": "https://localhost:8080/"
        },
        "id": "XZlDJ2PkrD49",
        "outputId": "9021a74d-4025-4b0d-b40d-92bc7aff8b0e"
      },
      "source": [
        "df.corr()['COVID-19 deaths per 100,000 population in 2020']"
      ],
      "execution_count": null,
      "outputs": [
        {
          "output_type": "execute_result",
          "data": {
            "text/plain": [
              "Population 2020                                                               -0.056084\n",
              "Population 2019                                                               -0.054831\n",
              "COVID-19 deaths per 100,000 population in 2020                                 1.000000\n",
              "Median age                                                                     0.559788\n",
              "Island                                                                        -0.164122\n",
              "Index of exposure to COVID-19  infections in other countries as of March 31    0.646555\n",
              "Log of average distance to SARS countries                                      0.208331\n",
              "WHO Western Pacific Region                                                    -0.234948\n",
              "Female head of government                                                     -0.112024\n",
              "Index of institutional trust                                                  -0.371665\n",
              "Gini coefficient of income                                                    -0.220137\n",
              "All-cause death count, 2017                                                    0.158215\n",
              "All-cause death count, 2018                                                    0.156650\n",
              "All-cause death count, 2019                                                    0.155317\n",
              "All-cause death count, 2020                                                    0.182418\n",
              "Excess deaths in 2020 per 100,000 population, relative to 2017-2019 average    0.689591\n",
              "Name: COVID-19 deaths per 100,000 population in 2020, dtype: float64"
            ]
          },
          "metadata": {},
          "execution_count": 10
        }
      ]
    },
    {
      "cell_type": "code",
      "metadata": {
        "id": "e0eP_K5lsHaJ"
      },
      "source": [
        ""
      ],
      "execution_count": null,
      "outputs": []
    }
  ]
}